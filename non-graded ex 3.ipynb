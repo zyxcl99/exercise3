{
 "cells": [
  {
   "cell_type": "markdown",
   "metadata": {},
   "source": [
    "Create a treasure hunt game where a user has to figure out the location of the treasure on a grid by using just the commands of E, W, N, and S, indicating East, West, North, and South, respectively. \n",
    "\n",
    "REQUIREMENTS:\n",
    "1. Define the size of the grid. It could be any number, but start from 5\n",
    "2. Assign the player a random position on the map. Do the same for the location of the treasure. (HINT: use randint() to generate a random set of coordinates)\n",
    "    2.1. Since it's 2-dimensional grid, the location of both the player and the treasure will be coordinates, like (x,y)\n",
    "3. Decide the maximum moves the player can make and keep track of the number of moves.\n",
    "4. Calculate the initial distance between the player and the treasure location\n",
    "5. Allow player to make as many moves as maximum moves allowed\n",
    "    5.1. Depending on which direction the player moves (N, S, E, or W), recalculate player's position and their distance from the treasure location\n",
    "    5.2. If the move brings player closer to the treasure, let the user know that they are getting closer\n",
    "    5.3. If the move takes player away from the treasure, let the user know that they are moving farther\n",
    "    5.4. If the player makes an illegal move, then let the user know that that move is not allowed. \n",
    "    5.5. If the new player position is the same as the treasure position, let the user know that they have found the treasure\n",
    "    5.6. If the moves made by the player are the same as maximum moves allowed, let the user know that no more moves are possible and that they have lost the game. Also show them where the treasure was located.\n",
    "    5.7. If there are still moves left, then the game should continue and keep asking the user for their moves. \n"
   ]
  },
  {
   "cell_type": "code",
   "execution_count": 1,
   "metadata": {},
   "outputs": [
    {
     "name": "stdout",
     "output_type": "stream",
     "text": [
      "Player position: [3, 4]\n",
      "Treasure position: [0, 1]\n",
      "You are in the position: [3, 4]\n",
      "Your move times: 10\n",
      "* * * * *\n",
      "* * * * *\n",
      "* * * * *\n",
      "* * * * P\n",
      "* * * * *\n",
      "\n",
      "You should only input N, S, W, E. Please try again.\n"
     ]
    }
   ],
   "source": [
    "import random\n",
    "\n",
    "grid_size = 5\n",
    "move_time = grid_size * 2\n",
    "player_position = [random.randint(0, grid_size - 1), random.randint(0, grid_size - 1)]\n",
    "print(f\"Player position: {player_position}\")\n",
    "treasure_position = [random.randint(0, grid_size - 1), random.randint(0, grid_size - 1)]\n",
    "print(f\"Treasure position: {treasure_position}\")\n",
    "\n",
    "def print_grid(player_position, grid_size):\n",
    "    for i in range(grid_size):\n",
    "        row = ['*' for _ in range(grid_size)]\n",
    "        if i == player_position[0]:\n",
    "            row[player_position[1]] = 'P'\n",
    "        print(' '.join(row))\n",
    "    print()\n",
    "\n",
    "directions = {\n",
    "    \"N\": (-1, 0),\n",
    "    \"S\": (1, 0),\n",
    "    \"E\": (0, 1),\n",
    "    \"W\": (0, -1)\n",
    "}\n",
    "\n",
    "while move_time > 0:\n",
    "    print(f\"You are in the position: {player_position}\")\n",
    "    print(f\"Your move times: {move_time}\")\n",
    "    print_grid(player_position, grid_size)\n",
    "    move = input(\"Please input your direction (N, S, E, or W):\").upper()\n",
    "    while move not in directions:\n",
    "        print(\"You should only input N, S, W, E. Please try again.\")\n",
    "        move = input(\"Please input your direction (N, S, E, or W):\").upper()\n",
    "\n",
    "    delta = directions[move]\n",
    "    new_position = [player_position[0] + delta[0], player_position[1] + delta[1]]\n",
    "\n",
    "    if 0 <= new_position[0] < grid_size and 0 <= new_position[1] < grid_size:\n",
    "        player_position = new_position\n",
    "        move_time -= 1\n",
    "    else:\n",
    "        print(\"You can not move in this direction.\")\n",
    "\n",
    "    distance = abs(player_position[0] - treasure_position[0]) + abs(player_position[1] - treasure_position[1])\n",
    "    print(f\"Distance to treasure: {distance}\")\n",
    "\n",
    "    if distance == 0:\n",
    "        print(\"Congratulations! You found the treasure!\")\n",
    "        break\n",
    "\n",
    "if move_time == 0:\n",
    "    print(\"Sorry, you lost!\")"
   ]
  }
 ],
 "metadata": {
  "kernelspec": {
   "display_name": "Python 3",
   "language": "python",
   "name": "python3"
  },
  "language_info": {
   "codemirror_mode": {
    "name": "ipython",
    "version": 3
   },
   "file_extension": ".py",
   "mimetype": "text/x-python",
   "name": "python",
   "nbconvert_exporter": "python",
   "pygments_lexer": "ipython3",
   "version": "3.11.9"
  }
 },
 "nbformat": 4,
 "nbformat_minor": 2
}
